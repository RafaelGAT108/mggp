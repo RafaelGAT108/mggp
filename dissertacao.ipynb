{
 "cells": [
  {
   "cell_type": "markdown",
   "metadata": {},
   "source": [
    "# Imports"
   ]
  },
  {
   "cell_type": "code",
   "execution_count": 1,
   "metadata": {},
   "outputs": [],
   "source": [
    "import numpy as np \n",
    "import pandas as pd \n",
    "import os\n",
    "from mggp import MGGP"
   ]
  },
  {
   "cell_type": "markdown",
   "metadata": {},
   "source": [
    "# Execute"
   ]
  },
  {
   "cell_type": "code",
   "execution_count": 8,
   "metadata": {},
   "outputs": [
    {
     "name": "stdout",
     "output_type": "stream",
     "text": [
      "Lendo o arquivo: RT_data_Job1_2023_07_28_16_41_10_Mix.csv\n",
      "Lendo o arquivo: RT_data_Job1_2023_07_29_11_36_05_Mix.csv\n",
      "Lendo o arquivo: RT_data_Job1_2023_07_29_11_41_22_Mix.csv\n",
      "Lendo o arquivo: RT_data_Job1_2023_07_29_11_46_44_Mix.csv\n",
      "Lendo o arquivo: RT_data_Job1_2023_07_29_11_58_50_Mix.csv\n",
      "Lendo o arquivo: RT_data_Job1_2023_07_29_12_15_29_Mix.csv\n"
     ]
    }
   ],
   "source": [
    "dataframes = []\n",
    "\n",
    "for RT_data in os.listdir('RT_datas'):\n",
    "    print(f\"Lendo o arquivo: {RT_data}\")\n",
    "    data = pd.read_csv(f\"RT_datas/{RT_data}\")\n",
    "    data_selected  = data[['ch_AngleSlip____', 'ch_VelLocalX_m_s_', 'ch_VelLocalY_m_s_']]\n",
    "    dataframes.append(data_selected)\n",
    "\n",
    "df_result = pd.concat(dataframes, ignore_index=True).fillna(0)\n",
    "df_result.columns = ['AngleSlip', 'Vx', 'Vy']\n",
    "# df_result = df_result.sample(frac=1, random_state=42).reset_index(drop=True) # Lines randomized\n",
    "df_result.to_csv(\"angle_slip.csv\", index=False)"
   ]
  },
  {
   "cell_type": "code",
   "execution_count": 2,
   "metadata": {},
   "outputs": [
    {
     "name": "stdout",
     "output_type": "stream",
     "text": [
      "60689 242753\n",
      "60689 242753\n"
     ]
    }
   ],
   "source": [
    "df_train = pd.read_csv(\"angle_slip.csv\").to_numpy()\n",
    "u, y = (df_train[:, :2], df_train[:, 2:3])\n",
    "\n",
    "split = 0.8\n",
    "y_train = y[:int(len(y)*split)]\n",
    "y_val = y[int(len(y)*split):]\n",
    "\n",
    "print(len(y_val), len(y_train))\n",
    "\n",
    "u_train = u[:int(len(u)*split)]\n",
    "u_val = u[int(len(u)*split):]\n",
    "\n",
    "print(len(u_val), len(u_train))"
   ]
  },
  {
   "cell_type": "code",
   "execution_count": null,
   "metadata": {},
   "outputs": [
    {
     "name": "stderr",
     "output_type": "stream",
     "text": [
      "Evaluating Initial Population:   0%|          | 0/100 [00:00<?, ?it/s]ERROR:tornado.general:SEND Error: Host unreachable\n",
      "Evaluating Initial Population:   0%|          | 0/100 [00:27<?, ?it/s]\n"
     ]
    }
   ],
   "source": [
    "mggp = MGGP(inputs=u_train,\n",
    "            outputs=y_train,\n",
    "            validation=(u_val, y_val),\n",
    "            #nDelays=[1, 2, 3, 5, 10, 15, 25, 50],\n",
    "            nDelays=15,\n",
    "            generations=1,\n",
    "            evaluationMode=\"RMSE\",\n",
    "            k=100,\n",
    "            evaluationType=\"MShooting\")\n",
    "\n",
    "mggp.run()"
   ]
  },
  {
   "cell_type": "code",
   "execution_count": 11,
   "metadata": {},
   "outputs": [
    {
     "name": "stderr",
     "output_type": "stream",
     "text": [
      "Evaluating Initial Population: 100%|██████████| 100/100 [02:29<00:00,  1.50s/it]"
     ]
    },
    {
     "name": "stdout",
     "output_type": "stream",
     "text": [
      "   \t     \t          fitness          \n",
      "   \t     \t---------------------------\n",
      "gen\tevals\tmin     \tavg\tmax\n",
      "0  \t100  \t0.217143\tinf\tinf\n"
     ]
    },
    {
     "name": "stderr",
     "output_type": "stream",
     "text": [
      "\n",
      "Evaluating Population: 100%|██████████| 78/78 [02:21<00:00,  1.82s/it]\n"
     ]
    },
    {
     "name": "stdout",
     "output_type": "stream",
     "text": [
      "1  \t78   \t0.217143\tinf\tinf\n"
     ]
    },
    {
     "name": "stderr",
     "output_type": "stream",
     "text": [
      "Evaluating Population: 100%|██████████| 67/67 [02:33<00:00,  2.30s/it]"
     ]
    },
    {
     "name": "stdout",
     "output_type": "stream",
     "text": [
      "2  \t67   \t0.217143\tinf\tinf\n"
     ]
    },
    {
     "name": "stderr",
     "output_type": "stream",
     "text": [
      "\n",
      "Evaluating Population: 100%|██████████| 76/76 [02:29<00:00,  1.96s/it]"
     ]
    },
    {
     "name": "stdout",
     "output_type": "stream",
     "text": [
      "3  \t76   \t0.197818\tinf\tinf\n"
     ]
    },
    {
     "name": "stderr",
     "output_type": "stream",
     "text": [
      "\n",
      "Evaluating Population: 100%|██████████| 76/76 [02:47<00:00,  2.21s/it]"
     ]
    },
    {
     "name": "stdout",
     "output_type": "stream",
     "text": [
      "4  \t76   \t0.197818\tinf\tinf\n"
     ]
    },
    {
     "name": "stderr",
     "output_type": "stream",
     "text": [
      "\n",
      "Evaluating Population: 100%|██████████| 72/72 [02:15<00:00,  1.88s/it]"
     ]
    },
    {
     "name": "stdout",
     "output_type": "stream",
     "text": [
      "5  \t72   \t0.19694 \tinf\tinf\n"
     ]
    },
    {
     "name": "stderr",
     "output_type": "stream",
     "text": [
      "\n",
      "Evaluating Population: 100%|██████████| 67/67 [01:54<00:00,  1.70s/it]"
     ]
    },
    {
     "name": "stdout",
     "output_type": "stream",
     "text": [
      "6  \t67   \t0.19694 \tinf\tinf\n"
     ]
    },
    {
     "name": "stderr",
     "output_type": "stream",
     "text": [
      "\n",
      "Evaluating Population: 100%|██████████| 69/69 [01:59<00:00,  1.73s/it]"
     ]
    },
    {
     "name": "stdout",
     "output_type": "stream",
     "text": [
      "7  \t69   \t0.195962\tinf\tinf\n"
     ]
    },
    {
     "name": "stderr",
     "output_type": "stream",
     "text": [
      "\n",
      "Evaluating Population: 100%|██████████| 72/72 [01:53<00:00,  1.58s/it]"
     ]
    },
    {
     "name": "stdout",
     "output_type": "stream",
     "text": [
      "8  \t72   \t0.195962\tinf\tinf\n"
     ]
    },
    {
     "name": "stderr",
     "output_type": "stream",
     "text": [
      "\n",
      "Evaluating Population: 100%|██████████| 71/71 [01:53<00:00,  1.60s/it]"
     ]
    },
    {
     "name": "stdout",
     "output_type": "stream",
     "text": [
      "9  \t71   \t0.195962\tinf\tinf\n"
     ]
    },
    {
     "name": "stderr",
     "output_type": "stream",
     "text": [
      "\n",
      "Evaluating Population: 100%|██████████| 85/85 [02:23<00:00,  1.68s/it]"
     ]
    },
    {
     "name": "stdout",
     "output_type": "stream",
     "text": [
      "10 \t85   \t0.194249\tinf\tinf\n"
     ]
    },
    {
     "name": "stderr",
     "output_type": "stream",
     "text": [
      "\n",
      "Evaluating Population: 100%|██████████| 82/82 [02:25<00:00,  1.77s/it]"
     ]
    },
    {
     "name": "stdout",
     "output_type": "stream",
     "text": [
      "11 \t82   \t0.194249\tinf\tinf\n"
     ]
    },
    {
     "name": "stderr",
     "output_type": "stream",
     "text": [
      "\n",
      "Evaluating Population: 100%|██████████| 78/78 [02:15<00:00,  1.74s/it]\n"
     ]
    },
    {
     "name": "stdout",
     "output_type": "stream",
     "text": [
      "12 \t78   \t0.194249\tinf\tinf\n"
     ]
    },
    {
     "name": "stderr",
     "output_type": "stream",
     "text": [
      "Evaluating Population: 100%|██████████| 81/81 [02:15<00:00,  1.68s/it]"
     ]
    },
    {
     "name": "stdout",
     "output_type": "stream",
     "text": [
      "13 \t81   \t0.193138\tinf\tinf\n"
     ]
    },
    {
     "name": "stderr",
     "output_type": "stream",
     "text": [
      "\n",
      "Evaluating Population: 100%|██████████| 63/63 [01:47<00:00,  1.71s/it]\n"
     ]
    },
    {
     "name": "stdout",
     "output_type": "stream",
     "text": [
      "14 \t63   \t0.193138\tinf\tinf\n"
     ]
    },
    {
     "name": "stderr",
     "output_type": "stream",
     "text": [
      "Evaluating Population: 100%|██████████| 67/67 [02:00<00:00,  1.80s/it]"
     ]
    },
    {
     "name": "stdout",
     "output_type": "stream",
     "text": [
      "15 \t67   \t0.192862\tinf\tinf\n"
     ]
    },
    {
     "name": "stderr",
     "output_type": "stream",
     "text": [
      "\n",
      "Evaluating Population: 100%|██████████| 84/84 [02:31<00:00,  1.80s/it]"
     ]
    },
    {
     "name": "stdout",
     "output_type": "stream",
     "text": [
      "16 \t84   \t0.19268 \tinf\tinf\n"
     ]
    },
    {
     "name": "stderr",
     "output_type": "stream",
     "text": [
      "\n",
      "Evaluating Population: 100%|██████████| 73/73 [02:10<00:00,  1.79s/it]"
     ]
    },
    {
     "name": "stdout",
     "output_type": "stream",
     "text": [
      "17 \t73   \t0.19268 \tinf\tinf\n"
     ]
    },
    {
     "name": "stderr",
     "output_type": "stream",
     "text": [
      "\n",
      "Evaluating Population: 100%|██████████| 68/68 [02:04<00:00,  1.82s/it]"
     ]
    },
    {
     "name": "stdout",
     "output_type": "stream",
     "text": [
      "18 \t68   \t0.19268 \tinf\tinf\n"
     ]
    },
    {
     "name": "stderr",
     "output_type": "stream",
     "text": [
      "\n",
      "Evaluating Population: 100%|██████████| 76/76 [02:19<00:00,  1.83s/it]"
     ]
    },
    {
     "name": "stdout",
     "output_type": "stream",
     "text": [
      "19 \t76   \t0.191567\tinf\tinf\n"
     ]
    },
    {
     "name": "stderr",
     "output_type": "stream",
     "text": [
      "\n",
      "Evaluating Population: 100%|██████████| 77/77 [02:19<00:00,  1.82s/it]\n"
     ]
    },
    {
     "name": "stdout",
     "output_type": "stream",
     "text": [
      "20 \t77   \t0.191567\tinf\tinf\n"
     ]
    },
    {
     "ename": "IndexError",
     "evalue": "index 1 is out of bounds for axis 0 with size 1",
     "output_type": "error",
     "traceback": [
      "\u001b[0;31m---------------------------------------------------------------------------\u001b[0m",
      "\u001b[0;31mIndexError\u001b[0m                                Traceback (most recent call last)",
      "Cell \u001b[0;32mIn[11], line 11\u001b[0m\n\u001b[1;32m      1\u001b[0m mggp \u001b[38;5;241m=\u001b[39m MGGP(inputs\u001b[38;5;241m=\u001b[39mu_train,\n\u001b[1;32m      2\u001b[0m             outputs\u001b[38;5;241m=\u001b[39my_train,\n\u001b[1;32m      3\u001b[0m             validation\u001b[38;5;241m=\u001b[39m(u_val, y_val),\n\u001b[0;32m   (...)\u001b[0m\n\u001b[1;32m      8\u001b[0m             k\u001b[38;5;241m=\u001b[39m\u001b[38;5;241m100\u001b[39m,\n\u001b[1;32m      9\u001b[0m             evaluationType\u001b[38;5;241m=\u001b[39m\u001b[38;5;124m\"\u001b[39m\u001b[38;5;124mMShooting\u001b[39m\u001b[38;5;124m\"\u001b[39m)\n\u001b[0;32m---> 11\u001b[0m \u001b[43mmggp\u001b[49m\u001b[38;5;241;43m.\u001b[39;49m\u001b[43mrun\u001b[49m\u001b[43m(\u001b[49m\u001b[43m)\u001b[49m\n",
      "File \u001b[0;32m/mnt/e/projetos/mggp/mggp.py:255\u001b[0m, in \u001b[0;36mMGGP.run\u001b[0;34m(self)\u001b[0m\n\u001b[1;32m    253\u001b[0m model\u001b[38;5;241m.\u001b[39m_theta \u001b[38;5;241m=\u001b[39m \u001b[38;5;28mlist\u001b[39m(theta_value)\n\u001b[1;32m    254\u001b[0m \u001b[38;5;66;03m# print(model)\u001b[39;00m\n\u001b[0;32m--> 255\u001b[0m \u001b[38;5;28mprint\u001b[39m(\u001b[43mmodel\u001b[49m\u001b[38;5;241;43m.\u001b[39;49m\u001b[43mto_equation\u001b[49m\u001b[43m(\u001b[49m\u001b[43m)\u001b[49m)\n\u001b[1;32m    256\u001b[0m \u001b[38;5;66;03m# print(model._theta)\u001b[39;00m\n\u001b[1;32m    258\u001b[0m \u001b[38;5;28;01mif\u001b[39;00m \u001b[38;5;28mall\u001b[39m([value \u001b[38;5;129;01mis\u001b[39;00m \u001b[38;5;129;01mnot\u001b[39;00m \u001b[38;5;28;01mNone\u001b[39;00m \u001b[38;5;28;01mfor\u001b[39;00m value \u001b[38;5;129;01min\u001b[39;00m \u001b[38;5;28mself\u001b[39m\u001b[38;5;241m.\u001b[39mvalidation]):\n",
      "File \u001b[0;32m/mnt/e/projetos/mggp/src/base.py:344\u001b[0m, in \u001b[0;36mIndividual.to_equation\u001b[0;34m(self)\u001b[0m\n\u001b[1;32m    335\u001b[0m     \u001b[38;5;28;01mreturn\u001b[39;00m string\n\u001b[1;32m    337\u001b[0m \u001b[38;5;66;03m# string = ''\u001b[39;00m\n\u001b[1;32m    338\u001b[0m \u001b[38;5;66;03m# for j, out in enumerate(self):\u001b[39;00m\n\u001b[1;32m    339\u001b[0m \u001b[38;5;66;03m#     string += f'\\n\\n Output %d:\\n y_{j + 1}[k] = {self.theta[j][0]:.4e} ' % (j + 1)\u001b[39;00m\n\u001b[0;32m   (...)\u001b[0m\n\u001b[1;32m    342\u001b[0m \u001b[38;5;66;03m#     string += ''.join([f'+ {self.theta[j][k + 1]:.4e}*{str(tree)} ' for k, tree in enumerate(out)])\u001b[39;00m\n\u001b[1;32m    343\u001b[0m \u001b[38;5;66;03m#     string += '\\n'\u001b[39;00m\n\u001b[0;32m--> 344\u001b[0m string \u001b[38;5;241m=\u001b[39m \u001b[43mcheckOut\u001b[49m\u001b[43m(\u001b[49m\u001b[43m)\u001b[49m\n\u001b[1;32m    345\u001b[0m \u001b[38;5;28;01mreturn\u001b[39;00m string\n",
      "File \u001b[0;32m/mnt/e/projetos/mggp/src/base.py:313\u001b[0m, in \u001b[0;36mIndividual.to_equation.<locals>.checkOut\u001b[0;34m()\u001b[0m\n\u001b[1;32m    311\u001b[0m branches \u001b[38;5;241m=\u001b[39m []\n\u001b[1;32m    312\u001b[0m count \u001b[38;5;241m=\u001b[39m \u001b[38;5;241m0\u001b[39m\n\u001b[0;32m--> 313\u001b[0m string \u001b[38;5;241m+\u001b[39m\u001b[38;5;241m=\u001b[39m \u001b[38;5;124mf\u001b[39m\u001b[38;5;124m'\u001b[39m\u001b[38;5;132;01m{\u001b[39;00m\u001b[38;5;28;43mself\u001b[39;49m\u001b[38;5;241;43m.\u001b[39;49m\u001b[43mtheta\u001b[49m\u001b[43m[\u001b[49m\u001b[43mk\u001b[49m\u001b[43m]\u001b[49m\u001b[43m[\u001b[49m\u001b[43mj\u001b[49m\u001b[38;5;241;43m+\u001b[39;49m\u001b[38;5;241;43m1\u001b[39;49m\u001b[43m]\u001b[49m\u001b[38;5;132;01m:\u001b[39;00m\u001b[38;5;124m.5e\u001b[39m\u001b[38;5;132;01m}\u001b[39;00m\u001b[38;5;124m * \u001b[39m\u001b[38;5;124m'\u001b[39m\n\u001b[1;32m    314\u001b[0m \u001b[38;5;28;01mwhile\u001b[39;00m i \u001b[38;5;241m<\u001b[39m \u001b[38;5;28mlen\u001b[39m(tree):\n\u001b[1;32m    315\u001b[0m     \u001b[38;5;28;01mif\u001b[39;00m re\u001b[38;5;241m.\u001b[39msearch(\u001b[38;5;124m\"\u001b[39m\u001b[38;5;124mq\u001b[39m\u001b[38;5;124m\\\u001b[39m\u001b[38;5;124md\u001b[39m\u001b[38;5;124m\"\u001b[39m, tree[i]\u001b[38;5;241m.\u001b[39mname):\n",
      "\u001b[0;31mIndexError\u001b[0m: index 1 is out of bounds for axis 0 with size 1"
     ]
    }
   ],
   "source": [
    "mggp = MGGP(inputs=u_train,\n",
    "            outputs=y_train,\n",
    "            validation=(u_val, y_val),\n",
    "            #nDelays=[1, 2, 3, 5, 10, 15, 25, 50],\n",
    "            nDelays=15,\n",
    "            generations=20,\n",
    "            evaluationMode=\"RMSE\",\n",
    "            k=100,\n",
    "            evaluationType=\"MShooting\")\n",
    "\n",
    "mggp.run()"
   ]
  },
  {
   "cell_type": "code",
   "execution_count": 12,
   "metadata": {},
   "outputs": [
    {
     "data": {
      "text/plain": [
       "[array([0.00019957]),\n",
       " array([-2.84430258e-05]),\n",
       " array([-0.00024055]),\n",
       " array([0.00056695]),\n",
       " array([-0.00029781]),\n",
       " array([-7.97402255e-07]),\n",
       " array([0.00085275]),\n",
       " array([-0.00072299]),\n",
       " array([-2.92731829e-05]),\n",
       " array([-0.00109971]),\n",
       " array([1.01687359]),\n",
       " array([3.23199619e-05]),\n",
       " array([-2.58874005e-05]),\n",
       " array([-0.00943273]),\n",
       " array([-0.00636928]),\n",
       " array([-0.00045608])]"
      ]
     },
     "execution_count": 12,
     "metadata": {},
     "output_type": "execute_result"
    }
   ],
   "source": [
    "mggp._hof[0]._theta"
   ]
  },
  {
   "cell_type": "code",
   "execution_count": 13,
   "metadata": {},
   "outputs": [
    {
     "name": "stdout",
     "output_type": "stream",
     "text": [
      "1\n",
      "q13(q15(q5(q5(q13(q15(q3(q5(u2))))))))\n",
      "q1(q9(q10(q8(q4(q10(q6(y1)))))))\n",
      "q14(q8(mul(q8(q7(u1)), q2(q14(q1(q4(y1)))))))\n",
      "u1\n",
      "q7(mul(mul(q13(q5(q6(q6(u1)))), y1), y1))\n",
      "u2\n",
      "q9(q3(u2))\n",
      "mul(q5(q2(q14(q5(q4(q7(q2(q12(q7(q3(q6(u2))))))))))), q1(q2(q14(q14(q15(q14(q15(q6(q13(y1))))))))))\n",
      "q8(q7(q9(q13(q15(q6(y1))))))\n",
      "y1\n",
      "mul(q2(q13(q10(q6(q7(y1))))), q8(q12(q12(q6(q13(u2))))))\n",
      "q9(q6(mul(y1, mul(q7(q14(q13(q6(q14(q13(q6(u1))))))), u1))))\n",
      "q5(q7(q14(q3(q14(q14(q3(y1)))))))\n",
      "q1(q11(q1(q6(q4(q6(q4(q6(q8(y1)))))))))\n",
      "q14(mul(y1, u1))\n",
      "\n"
     ]
    }
   ],
   "source": [
    "print(mggp._hof[0])"
   ]
  }
 ],
 "metadata": {
  "kernelspec": {
   "display_name": ".venv",
   "language": "python",
   "name": "python3"
  },
  "language_info": {
   "codemirror_mode": {
    "name": "ipython",
    "version": 3
   },
   "file_extension": ".py",
   "mimetype": "text/x-python",
   "name": "python",
   "nbconvert_exporter": "python",
   "pygments_lexer": "ipython3",
   "version": "3.12.3"
  }
 },
 "nbformat": 4,
 "nbformat_minor": 2
}
